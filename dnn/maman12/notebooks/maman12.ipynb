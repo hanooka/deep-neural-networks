{
 "cells": [
  {
   "cell_type": "code",
   "id": "initial_id",
   "metadata": {
    "collapsed": true,
    "ExecuteTime": {
     "end_time": "2025-04-04T12:19:14.713302Z",
     "start_time": "2025-04-04T12:19:14.699327Z"
    }
   },
   "source": [
    "from __future__ import annotations\n",
    "from typing import Iterable, Union\n",
    "\n",
    "import matplotlib.pyplot as plt\n",
    "import torch\n",
    "\n",
    "%matplotlib inline"
   ],
   "outputs": [],
   "execution_count": 6
  },
  {
   "metadata": {
    "ExecuteTime": {
     "end_time": "2025-04-04T11:56:46.237524Z",
     "start_time": "2025-04-04T11:56:46.230523Z"
    }
   },
   "cell_type": "code",
   "source": [
    "\n",
    "def my_sampler(size: int, dist: Iterable[float], requires_grad: bool = False):\n",
    "    \"\"\" Creating a tensor of samples of size `size` using `dist` as distribution.\n",
    "    work similarly to numpy random choice.\n",
    "\n",
    "    :param size: tensor size. if size=5 will return tensor of size 5\n",
    "    :param dist: distribution of sampling, for example\n",
    "                 dist[1] is the chance to sample the number 1\n",
    "                 all numbers in dist should be positive and sum to 1\n",
    "    :param requires_grad:\n",
    "    :return: torch.Tensor of dtype int32\n",
    "    \"\"\"\n",
    "    dist = torch.Tensor(dist)\n",
    "\n",
    "    is_dist_correct = sum(dist) == 1. and all(dist > 0.)\n",
    "    if not is_dist_correct:\n",
    "        raise ValueError(f\"dist: {dist} is invalid.\\n\"\n",
    "                         f\"Hint: all values should be positive and sum to 1\")\n",
    "\n",
    "    # Once we cumsum the probability vector, we can find a random variable place in it.\n",
    "    dist_cumsum = torch.cumsum(dist, dim=0, dtype=torch.float32)\n",
    "\n",
    "    # Sampling `size` uniform values\n",
    "    uni_randoms = torch.rand(size)\n",
    "\n",
    "    # Searching in sorted array could be performed using binary search.\n",
    "    # I can implement it, but why not using a torch implementation, which already\n",
    "    # handles all the edge cases\n",
    "\n",
    "    # We will also vectorize the operation instead running in a for loop\n",
    "    result_tensor = torch.searchsorted(dist_cumsum, uni_randoms, out_int32=True)\n",
    "    result_tensor.required_grad = requires_grad\n",
    "\n",
    "    return result_tensor"
   ],
   "id": "2b7797f75271ba93",
   "outputs": [],
   "execution_count": 2
  },
  {
   "metadata": {},
   "cell_type": "markdown",
   "source": [
    "#### - Defining the given distribution\n",
    "#### - Sampling 10K samples.\n",
    "#### - Plotting the histogram"
   ],
   "id": "a94ef22cad7bdce0"
  },
  {
   "metadata": {
    "ExecuteTime": {
     "end_time": "2025-04-04T11:57:08.414459Z",
     "start_time": "2025-04-04T11:57:08.218493Z"
    }
   },
   "cell_type": "code",
   "source": [
    "dist = [0.7, 0.2, 0.1]\n",
    "result_tensor = my_sampler(10_000, dist)\n",
    "plt.hist(result_tensor, bins=[0, 1, 2, 3], linewidth=1.2)\n",
    "plt.show()"
   ],
   "id": "99d0a41ae3860851",
   "outputs": [
    {
     "data": {
      "text/plain": [
       "<Figure size 640x480 with 1 Axes>"
      ],
      "image/png": "[encoded data removed]"
     },
     "metadata": {},
     "output_type": "display_data"
    }
   ],
   "execution_count": 3
  },
  {
   "metadata": {},
   "cell_type": "markdown",
   "source": "### ERROR Show case: sum(dist) > 1",
   "id": "69e7263ea141790e"
  },
  {
   "metadata": {
    "ExecuteTime": {
     "end_time": "2025-04-04T11:59:38.757842Z",
     "start_time": "2025-04-04T11:59:38.564842Z"
    }
   },
   "cell_type": "code",
   "source": [
    "dist = [0.7, 0.4, 0.5]\n",
    "result_tensor = my_sampler(10_000, dist)"
   ],
   "id": "7d1cf6a4582edd13",
   "outputs": [
    {
     "ename": "ValueError",
     "evalue": "dist: tensor([0.7000, 0.4000, 0.5000]) is invalid.\nHint: all values should be positive and sum to 1",
     "output_type": "error",
     "traceback": [
      "\u001B[1;31m---------------------------------------------------------------------------\u001B[0m",
      "\u001B[1;31mValueError\u001B[0m                                Traceback (most recent call last)",
      "Cell \u001B[1;32mIn[4], line 2\u001B[0m\n\u001B[0;32m      1\u001B[0m dist \u001B[38;5;241m=\u001B[39m [\u001B[38;5;241m0.7\u001B[39m, \u001B[38;5;241m0.4\u001B[39m, \u001B[38;5;241m0.5\u001B[39m]\n\u001B[1;32m----> 2\u001B[0m result_tensor \u001B[38;5;241m=\u001B[39m \u001B[43mmy_sampler\u001B[49m\u001B[43m(\u001B[49m\u001B[38;5;241;43m10_000\u001B[39;49m\u001B[43m,\u001B[49m\u001B[43m \u001B[49m\u001B[43mdist\u001B[49m\u001B[43m)\u001B[49m\n",
      "Cell \u001B[1;32mIn[2], line 16\u001B[0m, in \u001B[0;36mmy_sampler\u001B[1;34m(size, dist, requires_grad)\u001B[0m\n\u001B[0;32m     14\u001B[0m is_dist_correct \u001B[38;5;241m=\u001B[39m \u001B[38;5;28msum\u001B[39m(dist) \u001B[38;5;241m==\u001B[39m \u001B[38;5;241m1.\u001B[39m \u001B[38;5;129;01mand\u001B[39;00m \u001B[38;5;28mall\u001B[39m(dist \u001B[38;5;241m>\u001B[39m \u001B[38;5;241m0.\u001B[39m)\n\u001B[0;32m     15\u001B[0m \u001B[38;5;28;01mif\u001B[39;00m \u001B[38;5;129;01mnot\u001B[39;00m is_dist_correct:\n\u001B[1;32m---> 16\u001B[0m     \u001B[38;5;28;01mraise\u001B[39;00m \u001B[38;5;167;01mValueError\u001B[39;00m(\u001B[38;5;124mf\u001B[39m\u001B[38;5;124m\"\u001B[39m\u001B[38;5;124mdist: \u001B[39m\u001B[38;5;132;01m{\u001B[39;00mdist\u001B[38;5;132;01m}\u001B[39;00m\u001B[38;5;124m is invalid.\u001B[39m\u001B[38;5;130;01m\\n\u001B[39;00m\u001B[38;5;124m\"\u001B[39m\n\u001B[0;32m     17\u001B[0m                      \u001B[38;5;124mf\u001B[39m\u001B[38;5;124m\"\u001B[39m\u001B[38;5;124mHint: all values should be positive and sum to 1\u001B[39m\u001B[38;5;124m\"\u001B[39m)\n\u001B[0;32m     19\u001B[0m \u001B[38;5;66;03m# Once we cumsum the probability vector, we can find a random variable place in it.\u001B[39;00m\n\u001B[0;32m     20\u001B[0m dist_cumsum \u001B[38;5;241m=\u001B[39m torch\u001B[38;5;241m.\u001B[39mcumsum(dist, dim\u001B[38;5;241m=\u001B[39m\u001B[38;5;241m0\u001B[39m, dtype\u001B[38;5;241m=\u001B[39mtorch\u001B[38;5;241m.\u001B[39mfloat32)\n",
      "\u001B[1;31mValueError\u001B[0m: dist: tensor([0.7000, 0.4000, 0.5000]) is invalid.\nHint: all values should be positive and sum to 1"
     ]
    }
   ],
   "execution_count": 4
  },
  {
   "metadata": {
    "ExecuteTime": {
     "end_time": "2025-04-04T12:00:29.493034Z",
     "start_time": "2025-04-04T12:00:29.317230Z"
    }
   },
   "cell_type": "code",
   "source": [
    "# A different distribution\n",
    "\n",
    "dist = [0.3, 0.2, 0.5]\n",
    "result_tensor = my_sampler(10_000, dist)\n",
    "plt.hist(result_tensor, bins=[0, 1, 2, 3], linewidth=1.2)\n",
    "plt.show()"
   ],
   "id": "e542546e7c1cbe0c",
   "outputs": [
    {
     "data": {
      "text/plain": [
       "<Figure size 640x480 with 1 Axes>"
      ],
      "image/png": "[encoded data removed]"
     },
     "metadata": {},
     "output_type": "display_data"
    }
   ],
   "execution_count": 5
  },
  {
   "metadata": {},
   "cell_type": "markdown",
   "source": "## My Math",
   "id": "f235db61ebf6ba36"
  },
  {
   "metadata": {
    "ExecuteTime": {
     "end_time": "2025-04-04T12:19:55.411451Z",
     "start_time": "2025-04-04T12:19:55.399477Z"
    }
   },
   "cell_type": "code",
   "source": [
    "class MyScalar:\n",
    "    def __init__(self,\n",
    "                 val: Union[int, float],\n",
    "                 im_derivative: Union[int, float] = None,\n",
    "                 predecessor: MyScalar = None):\n",
    "        self.val = val\n",
    "        self.im_derivative = im_derivative\n",
    "        self.predecessor = predecessor\n",
    "\n",
    "    # Nice repr/print for debugging.\n",
    "    def __repr__(self):\n",
    "        return (f\"(MyScalar:\\n\"\n",
    "                f\"\\tval: {self.val}\\n\"\n",
    "                f\"\\tderivative: {self.im_derivative}\\n\"\n",
    "                f\"\\tpredecessor:\\n{self.predecessor})\")\n",
    "\n",
    "\n",
    "def power(x: MyScalar, var: Union[int, float]) -> MyScalar:\n",
    "    def pow_der():\n",
    "        if var == 0:\n",
    "            return 0.\n",
    "        # power derivative\n",
    "        return var * torch.pow(x.val, torch.tensor(var - 1)).item()\n",
    "\n",
    "    # calculating MyScalar 2 values...\n",
    "    val = torch.pow(x.val, torch.tensor(var)).item()\n",
    "    im_derivative = pow_der()\n",
    "\n",
    "    return MyScalar(val, im_derivative, x)\n",
    "\n",
    "\n",
    "def exp(x: MyScalar) -> MyScalar:\n",
    "    # e^a == der(e^a), therefor, easy calculation\n",
    "    val = torch.exp(torch.tensor(x.val)).item()\n",
    "    return MyScalar(val, val, x)\n",
    "\n",
    "\n",
    "def log(x: MyScalar) -> MyScalar:\n",
    "    # the natural log (log_base_e)\n",
    "    val = torch.log(torch.tensor(x.val)).item()\n",
    "    im_derivative = 1. / x.val\n",
    "    return MyScalar(val, im_derivative, x)\n",
    "\n",
    "\n",
    "def sin(x: MyScalar) -> MyScalar:\n",
    "    val = torch.sin(torch.tensor(x.val)).item()\n",
    "    im_derivative = torch.cos(torch.tensor(x.val)).item()\n",
    "    return MyScalar(val, im_derivative, x)\n",
    "\n",
    "\n",
    "def cos(x: MyScalar) -> MyScalar:\n",
    "    val = torch.cos(torch.tensor(x.val)).item()\n",
    "    im_derivative = -1 * torch.sin(torch.tensor(x.val)).item()\n",
    "    return MyScalar(val, im_derivative, x)\n",
    "\n",
    "\n",
    "def mult(x: MyScalar, var: Union[int, float]) -> MyScalar:\n",
    "    val = x.val * var\n",
    "    return MyScalar(val, var, x)\n",
    "\n",
    "\n",
    "def add(x: MyScalar, var: Union[int, float]) -> MyScalar:\n",
    "    val = x.val + var\n",
    "    return MyScalar(val, 1, x)\n",
    "\n",
    "\n",
    "def get_gradient(x: MyScalar) -> dict:\n",
    "    if not x:\n",
    "        return {}\n",
    "\n",
    "    result = {0: 1.}\n",
    "\n",
    "    # applying chain rule by cum_mult the derivatives\n",
    "    i = 1\n",
    "    while x.predecessor:\n",
    "        result[i] = result[i - 1] * x.im_derivative\n",
    "        i += 1\n",
    "        x = x.predecessor\n",
    "\n",
    "    # Renaming ints to chrs, and reverse the order of keys.\n",
    "    # If more than 26 variables required, we can do modulo 26, and start enumerating the variables...\n",
    "    result = {chr(ord('a') + key): val for key, val in zip(reversed(result.keys()), result.values())}\n",
    "    return result"
   ],
   "id": "9012a209d2c618e3",
   "outputs": [],
   "execution_count": 7
  },
  {
   "metadata": {},
   "cell_type": "markdown",
   "source": "## A little example of how this thing looks like:",
   "id": "7911575944f17cdf"
  },
  {
   "metadata": {
    "ExecuteTime": {
     "end_time": "2025-04-04T12:21:55.814704Z",
     "start_time": "2025-04-04T12:21:55.803679Z"
    }
   },
   "cell_type": "code",
   "source": [
    "a = MyScalar(3.)\n",
    "b = power(a, 2.)\n",
    "c = exp(b)\n",
    "print(\"Printing c of type MyScalar\")\n",
    "print(c, \"\\n\")\n",
    "d = get_gradient(c)\n",
    "print(d)\n",
    "\n",
    "ta = torch.tensor(3.0, requires_grad=True)\n",
    "tb = ta ** 2.\n",
    "tb.retain_grad()\n",
    "tc = torch.exp(tb)\n",
    "tb.retain_grad()\n",
    "tc.backward()\n",
    "\n",
    "print(f\"a: {ta.item()}, gradient: {ta.grad.item()}\")\n",
    "print(f\"b: {tb.item()}, gradient: {tb.grad.item()}\")"
   ],
   "id": "5c3abdbda65f20bf",
   "outputs": [
    {
     "name": "stdout",
     "output_type": "stream",
     "text": [
      "Printing c of type MyScalar\n",
      "(MyScalar:\n",
      "\tval: 8103.083984375\n",
      "\tderivative: 8103.083984375\n",
      "\tpredecessor:\n",
      "(MyScalar:\n",
      "\tval: 9.0\n",
      "\tderivative: 6.0\n",
      "\tpredecessor:\n",
      "(MyScalar:\n",
      "\tval: 3.0\n",
      "\tderivative: None\n",
      "\tpredecessor:\n",
      "None))) \n",
      "\n",
      "{'c': 1.0, 'b': 8103.083984375, 'a': 48618.50390625}\n",
      "a: 3.0, gradient: 48618.50390625\n",
      "b: 9.0, gradient: 8103.083984375\n"
     ]
    }
   ],
   "execution_count": 11
  },
  {
   "metadata": {},
   "cell_type": "markdown",
   "source": "## For the rest of the test suite, please run pytest test_my_math.py -v From the file location! .../maman12/src/",
   "id": "331e133bf3ab7013"
  }
 ],
 "metadata": {
  "kernelspec": {
   "display_name": "Python 3",
   "language": "python",
   "name": "python3"
  },
  "language_info": {
   "codemirror_mode": {
    "name": "ipython",
    "version": 2
   },
   "file_extension": ".py",
   "mimetype": "text/x-python",
   "name": "python",
   "nbconvert_exporter": "python",
   "pygments_lexer": "ipython2",
   "version": "2.7.6"
  }
 },
 "nbformat": 4,
 "nbformat_minor": 5
}
