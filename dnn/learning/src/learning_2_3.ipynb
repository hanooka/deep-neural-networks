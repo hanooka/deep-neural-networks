{
 "cells": [
  {
   "cell_type": "code",
   "id": "initial_id",
   "metadata": {
    "collapsed": true,
    "ExecuteTime": {
     "end_time": "2025-04-21T10:40:16.293051Z",
     "start_time": "2025-04-21T10:40:05.567524Z"
    }
   },
   "source": [
    "import torch\n",
    "import torchvision\n",
    "\n",
    "mnist_train = torchvision.datasets.FashionMNIST(\n",
    "    root=\"/22961\", train=True, download=True)"
   ],
   "outputs": [
    {
     "name": "stdout",
     "output_type": "stream",
     "text": [
      "Downloading http://fashion-mnist.s3-website.eu-central-1.amazonaws.com/train-images-idx3-ubyte.gz\n",
      "Downloading http://fashion-mnist.s3-website.eu-central-1.amazonaws.com/train-images-idx3-ubyte.gz to /22961\\FashionMNIST\\raw\\train-images-idx3-ubyte.gz\n"
     ]
    },
    {
     "name": "stderr",
     "output_type": "stream",
     "text": [
      "100%|██████████| 26.4M/26.4M [00:01<00:00, 23.8MB/s]\n"
     ]
    },
    {
     "name": "stdout",
     "output_type": "stream",
     "text": [
      "Extracting /22961\\FashionMNIST\\raw\\train-images-idx3-ubyte.gz to /22961\\FashionMNIST\\raw\n",
      "\n",
      "Downloading http://fashion-mnist.s3-website.eu-central-1.amazonaws.com/train-labels-idx1-ubyte.gz\n",
      "Downloading http://fashion-mnist.s3-website.eu-central-1.amazonaws.com/train-labels-idx1-ubyte.gz to /22961\\FashionMNIST\\raw\\train-labels-idx1-ubyte.gz\n"
     ]
    },
    {
     "name": "stderr",
     "output_type": "stream",
     "text": [
      "100%|██████████| 29.5k/29.5k [00:00<00:00, 423kB/s]\n"
     ]
    },
    {
     "name": "stdout",
     "output_type": "stream",
     "text": [
      "Extracting /22961\\FashionMNIST\\raw\\train-labels-idx1-ubyte.gz to /22961\\FashionMNIST\\raw\n",
      "\n",
      "Downloading http://fashion-mnist.s3-website.eu-central-1.amazonaws.com/t10k-images-idx3-ubyte.gz\n",
      "Downloading http://fashion-mnist.s3-website.eu-central-1.amazonaws.com/t10k-images-idx3-ubyte.gz to /22961\\FashionMNIST\\raw\\t10k-images-idx3-ubyte.gz\n"
     ]
    },
    {
     "name": "stderr",
     "output_type": "stream",
     "text": [
      "100%|██████████| 4.42M/4.42M [00:00<00:00, 4.86MB/s]\n"
     ]
    },
    {
     "name": "stdout",
     "output_type": "stream",
     "text": [
      "Extracting /22961\\FashionMNIST\\raw\\t10k-images-idx3-ubyte.gz to /22961\\FashionMNIST\\raw\n",
      "\n",
      "Downloading http://fashion-mnist.s3-website.eu-central-1.amazonaws.com/t10k-labels-idx1-ubyte.gz\n",
      "Downloading http://fashion-mnist.s3-website.eu-central-1.amazonaws.com/t10k-labels-idx1-ubyte.gz to /22961\\FashionMNIST\\raw\\t10k-labels-idx1-ubyte.gz\n"
     ]
    },
    {
     "name": "stderr",
     "output_type": "stream",
     "text": [
      "100%|██████████| 5.15k/5.15k [00:00<?, ?B/s]"
     ]
    },
    {
     "name": "stdout",
     "output_type": "stream",
     "text": [
      "Extracting /22961\\FashionMNIST\\raw\\t10k-labels-idx1-ubyte.gz to /22961\\FashionMNIST\\raw\n",
      "\n"
     ]
    },
    {
     "name": "stderr",
     "output_type": "stream",
     "text": [
      "\n"
     ]
    }
   ],
   "execution_count": 1
  },
  {
   "metadata": {
    "ExecuteTime": {
     "end_time": "2025-04-21T10:40:32.614677Z",
     "start_time": "2025-04-21T10:40:32.605677Z"
    }
   },
   "cell_type": "code",
   "source": [
    "print(len(mnist_train))\n",
    "mnist_train.classes\n"
   ],
   "id": "47e5bdc1ac3dba27",
   "outputs": [
    {
     "name": "stdout",
     "output_type": "stream",
     "text": [
      "60000\n"
     ]
    },
    {
     "data": {
      "text/plain": [
       "['T-shirt/top',\n",
       " 'Trouser',\n",
       " 'Pullover',\n",
       " 'Dress',\n",
       " 'Coat',\n",
       " 'Sandal',\n",
       " 'Shirt',\n",
       " 'Sneaker',\n",
       " 'Bag',\n",
       " 'Ankle boot']"
      ]
     },
     "execution_count": 2,
     "metadata": {},
     "output_type": "execute_result"
    }
   ],
   "execution_count": 2
  },
  {
   "metadata": {
    "ExecuteTime": {
     "end_time": "2025-04-21T10:50:05.820940Z",
     "start_time": "2025-04-21T10:50:05.798911Z"
    }
   },
   "cell_type": "code",
   "source": [
    "A = mnist_train[0]\n",
    "print(type(A), len(A), A[0], A[1], mnist_train.classes[A[1]], sep='\\n')\n"
   ],
   "id": "e4d9c7e8d27cde6f",
   "outputs": [
    {
     "name": "stdout",
     "output_type": "stream",
     "text": [
      "<class 'tuple'>\n",
      "2\n",
      "<PIL.Image.Image image mode=L size=28x28 at 0x1B38286B310>\n",
      "9\n",
      "Ankle boot\n"
     ]
    }
   ],
   "execution_count": 3
  },
  {
   "metadata": {
    "ExecuteTime": {
     "end_time": "2025-04-21T10:51:24.143773Z",
     "start_time": "2025-04-21T10:51:24.121744Z"
    }
   },
   "cell_type": "code",
   "source": [
    "convert = torchvision.transforms.PILToTensor()\n",
    "img = convert(A[0])\n",
    "print(type(img), img.size(), sep='\\n')"
   ],
   "id": "2b886e0f006de6d9",
   "outputs": [
    {
     "name": "stdout",
     "output_type": "stream",
     "text": [
      "<class 'torch.Tensor'>\n",
      "torch.Size([1, 28, 28])\n"
     ]
    }
   ],
   "execution_count": 4
  },
  {
   "metadata": {
    "ExecuteTime": {
     "end_time": "2025-04-21T10:53:10.618214Z",
     "start_time": "2025-04-21T10:53:09.861238Z"
    }
   },
   "cell_type": "code",
   "source": [
    "import matplotlib.pyplot as plt\n",
    "plt.imshow(torch.squeeze(img),cmap='Greys');"
   ],
   "id": "e3be71ba0aa653c8",
   "outputs": [
    {
     "data": {
      "text/plain": [
       "<Figure size 640x480 with 1 Axes>"
      ],
      "image/png": "[encoded data removed]"
     },
     "metadata": {},
     "output_type": "display_data"
    }
   ],
   "execution_count": 5
  },
  {
   "metadata": {
    "ExecuteTime": {
     "end_time": "2025-04-21T10:54:11.911767Z",
     "start_time": "2025-04-21T10:54:11.873766Z"
    }
   },
   "cell_type": "code",
   "source": [
    "from torch.utils.data import DataLoader\n",
    "train_data_transformed = torchvision.datasets.FashionMNIST(\n",
    "    root=\"/22961\", train=True, download=False,\n",
    "    transform=torchvision.transforms.PILToTensor()\n",
    ")\n",
    "train_dataloader = DataLoader(train_data_transformed, batch_size=4)"
   ],
   "id": "a2cd5e24d485156c",
   "outputs": [],
   "execution_count": 6
  },
  {
   "metadata": {
    "ExecuteTime": {
     "end_time": "2025-04-21T10:57:08.911953Z",
     "start_time": "2025-04-21T10:57:08.550968Z"
    }
   },
   "cell_type": "code",
   "source": [
    "iterator = iter(train_dataloader)\n",
    "imgs, labels = next(iterator)\n",
    "class_names = train_data_transformed.classes\n",
    "fig = plt.figure()\n",
    "for i in range(4):\n",
    " ax = fig.add_subplot(2, 2, i+1)\n",
    " plt.imshow(torch.squeeze(imgs[i]), cmap='Greys')\n",
    " ax.set_title(class_names[labels[i]])\n",
    " #ax.axes.get_xaxis().set_visible(False)\n",
    " #ax.axes.get_yaxis().set_visible(False)\n"
   ],
   "id": "f4e46472a8243366",
   "outputs": [
    {
     "data": {
      "text/plain": [
       "<Figure size 640x480 with 4 Axes>"
      ],
      "image/png": "[encoded data removed]"
     },
     "metadata": {},
     "output_type": "display_data"
    }
   ],
   "execution_count": 8
  },
  {
   "metadata": {},
   "cell_type": "code",
   "outputs": [],
   "execution_count": null,
   "source": "",
   "id": "9aabd3adc2bef2d3"
  }
 ],
 "metadata": {
  "kernelspec": {
   "display_name": "Python 3",
   "language": "python",
   "name": "python3"
  },
  "language_info": {
   "codemirror_mode": {
    "name": "ipython",
    "version": 2
   },
   "file_extension": ".py",
   "mimetype": "text/x-python",
   "name": "python",
   "nbconvert_exporter": "python",
   "pygments_lexer": "ipython2",
   "version": "2.7.6"
  }
 },
 "nbformat": 4,
 "nbformat_minor": 5
}
